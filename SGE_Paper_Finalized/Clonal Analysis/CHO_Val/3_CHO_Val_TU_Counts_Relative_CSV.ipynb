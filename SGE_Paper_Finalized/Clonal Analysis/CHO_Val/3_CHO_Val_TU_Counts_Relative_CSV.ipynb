{
 "cells": [
  {
   "cell_type": "code",
   "execution_count": 1,
   "id": "b60b5f4a-e866-4272-a85b-928758970c37",
   "metadata": {},
   "outputs": [
    {
     "name": "stdout",
     "output_type": "stream",
     "text": [
      "File: /Users/trollj01/PycharmProjects/pythonProject1/20250527_SGE_FinalScripts/CHO_Valine/CHO_Valine_Counts/output_csvs/Counts_BS27860A, Total Reads: 164985.0, Normalization Value: 0.000606, Read Quality: Above_50000\n",
      "File: /Users/trollj01/PycharmProjects/pythonProject1/20250527_SGE_FinalScripts/CHO_Valine/CHO_Valine_Counts/output_csvs/Counts_BS27861A, Total Reads: 204599.0, Normalization Value: 0.000489, Read Quality: Above_50000\n",
      "File: /Users/trollj01/PycharmProjects/pythonProject1/20250527_SGE_FinalScripts/CHO_Valine/CHO_Valine_Counts/output_csvs/Counts_BS27862A, Total Reads: 197169.0, Normalization Value: 0.000507, Read Quality: Above_50000\n",
      "File: /Users/trollj01/PycharmProjects/pythonProject1/20250527_SGE_FinalScripts/CHO_Valine/CHO_Valine_Counts/output_csvs/Counts_BS27863A, Total Reads: 177488.0, Normalization Value: 0.000563, Read Quality: Above_50000\n",
      "File: /Users/trollj01/PycharmProjects/pythonProject1/20250527_SGE_FinalScripts/CHO_Valine/CHO_Valine_Counts/output_csvs/Counts_BS27864A, Total Reads: 197836.0, Normalization Value: 0.000505, Read Quality: Above_50000\n",
      "File: /Users/trollj01/PycharmProjects/pythonProject1/20250527_SGE_FinalScripts/CHO_Valine/CHO_Valine_Counts/output_csvs/Counts_BS27865A, Total Reads: 220716.0, Normalization Value: 0.000453, Read Quality: Above_50000\n",
      "File: /Users/trollj01/PycharmProjects/pythonProject1/20250527_SGE_FinalScripts/CHO_Valine/CHO_Valine_Counts/output_csvs/Counts_BS27866A, Total Reads: 213439.0, Normalization Value: 0.000469, Read Quality: Above_50000\n",
      "File: /Users/trollj01/PycharmProjects/pythonProject1/20250527_SGE_FinalScripts/CHO_Valine/CHO_Valine_Counts/output_csvs/Counts_BS27867A, Total Reads: 194960.0, Normalization Value: 0.000513, Read Quality: Above_50000\n",
      "File: /Users/trollj01/PycharmProjects/pythonProject1/20250527_SGE_FinalScripts/CHO_Valine/CHO_Valine_Counts/output_csvs/Counts_BS27868A, Total Reads: 176712.0, Normalization Value: 0.000566, Read Quality: Above_50000\n",
      "File: /Users/trollj01/PycharmProjects/pythonProject1/20250527_SGE_FinalScripts/CHO_Valine/CHO_Valine_Counts/output_csvs/Counts_BS27869A, Total Reads: 194096.0, Normalization Value: 0.000515, Read Quality: Above_50000\n",
      "File: /Users/trollj01/PycharmProjects/pythonProject1/20250527_SGE_FinalScripts/CHO_Valine/CHO_Valine_Counts/output_csvs/Counts_BS27870A, Total Reads: 191271.0, Normalization Value: 0.000523, Read Quality: Above_50000\n",
      "File: /Users/trollj01/PycharmProjects/pythonProject1/20250527_SGE_FinalScripts/CHO_Valine/CHO_Valine_Counts/output_csvs/Counts_BS27871A, Total Reads: 203828.0, Normalization Value: 0.000491, Read Quality: Above_50000\n",
      "File: /Users/trollj01/PycharmProjects/pythonProject1/20250527_SGE_FinalScripts/CHO_Valine/CHO_Valine_Counts/output_csvs/Counts_BS27872A, Total Reads: 211370.0, Normalization Value: 0.000473, Read Quality: Above_50000\n",
      "File: /Users/trollj01/PycharmProjects/pythonProject1/20250527_SGE_FinalScripts/CHO_Valine/CHO_Valine_Counts/output_csvs/Counts_BS27873A, Total Reads: 221508.0, Normalization Value: 0.000451, Read Quality: Above_50000\n",
      "File: /Users/trollj01/PycharmProjects/pythonProject1/20250527_SGE_FinalScripts/CHO_Valine/CHO_Valine_Counts/output_csvs/Counts_BS27874A, Total Reads: 237529.0, Normalization Value: 0.000421, Read Quality: Above_50000\n",
      "File: /Users/trollj01/PycharmProjects/pythonProject1/20250527_SGE_FinalScripts/CHO_Valine/CHO_Valine_Counts/output_csvs/Counts_BS27875A, Total Reads: 231993.0, Normalization Value: 0.000431, Read Quality: Above_50000\n",
      "Summary saved to: /Users/trollj01/PycharmProjects/pythonProject1/20250527_SGE_FinalScripts/CHO_Valine/CHO_Valine_SummaryOutputs/CHO_Val_RelativeReadCounts.csv\n"
     ]
    }
   ],
   "source": [
    "import numpy as np\n",
    "import pandas as pd\n",
    "import os\n",
    "import glob\n",
    "\n",
    "# Define paths\n",
    "input_dir = '/Users/trollj01/PycharmProjects/pythonProject1/20250527_SGE_FinalScripts/CHO_Valine/CHO_Valine_Counts/output_csvs'\n",
    "output_csv = '/Users/trollj01/PycharmProjects/pythonProject1/20250527_SGE_FinalScripts/CHO_Valine/CHO_Valine_SummaryOutputs/CHO_Val_RelativeReadCounts.csv'\n",
    "\n",
    "# Ensure output directory exists\n",
    "os.makedirs(os.path.dirname(output_csv), exist_ok=True)\n",
    "\n",
    "# Get all input files\n",
    "input_files = sorted(glob.glob(os.path.join(input_dir, 'Counts_BS*')))\n",
    "\n",
    "# Define promoters and CDS\n",
    "promoters = ['Ef1a', 'PGK']\n",
    "mts_promoters = [f'{p}-MTS' for p in promoters]\n",
    "cds = ['GFP', 'ilvA', 'ilvA mut 1', 'ilvA mut 2', 'ilvG', 'ilvM', 'ilvB', 'ilvN', 'ilvC', 'ilvD']\n",
    "\n",
    "csv_data = []\n",
    "\n",
    "for file_path in input_files:\n",
    "    df = pd.read_csv(file_path, skiprows=13, names=['BC Number', 'BC Name', 'Sequence', 'Counts'])\n",
    "    total_reads = df['Counts'].sum()\n",
    "    norm = 100 / total_reads if total_reads > 0 else 0\n",
    "    quality = 'Above_50000' if total_reads >= 50000 else 'Below_50000'\n",
    "\n",
    "    print(f\"File: {file_path}, Total Reads: {total_reads}, Normalization Value: {norm:.6f}, Read Quality: {quality}\")\n",
    "\n",
    "    # Filter for usable barcodes\n",
    "    df_filtered = df[\n",
    "        (~df['BC Name'].str.contains(\"Unassigned\")) &\n",
    "        (df['BC Name'].str.contains(\"Ef1a__|PGK__|CMV__|TightTRE__|NoProm__|Ef1a-MTS__|PGK-MTS__|CMV-MTS__|TightTRE-MTS__|NoProm-MTS__|__Ef1a|__PGK|__CMV|__TightTRE|__NoProm|__Ef1a-MTS|__PGK-MTS\"))\n",
    "    ]\n",
    "\n",
    "    sum_TU = {}\n",
    "\n",
    "    # Count regular (non-MTS) promoters\n",
    "    for promoter in promoters:\n",
    "        for cd in cds:\n",
    "            match1 = df_filtered['BC Name'].str.contains(f\"{cd}__{promoter}(?!-MTS)\", regex=True)\n",
    "            match2 = df_filtered['BC Name'].str.contains(f\"{promoter}__{cd}(?!-MTS)\", regex=True)\n",
    "            sum_TU[f'{promoter}_{cd}'] = (df_filtered.loc[match1, 'Counts'].sum() + df_filtered.loc[match2, 'Counts'].sum()) * norm\n",
    "\n",
    "    # Count MTS promoters\n",
    "    for promoter in mts_promoters:\n",
    "        for cd in cds:\n",
    "            match1 = df_filtered['BC Name'].str.contains(f\"{cd}__{promoter}\")\n",
    "            match2 = df_filtered['BC Name'].str.contains(f\"{promoter}__{cd}\")\n",
    "            sum_TU[f'{promoter}_{cd}'] = (df_filtered.loc[match1, 'Counts'].sum() + df_filtered.loc[match2, 'Counts'].sum()) * norm\n",
    "\n",
    "    # Add row to output\n",
    "    row = {'File': os.path.basename(file_path), 'Read_Quality': quality}\n",
    "    row.update(sum_TU)\n",
    "    csv_data.append(row)\n",
    "\n",
    "# Write to CSV\n",
    "output_df = pd.DataFrame(csv_data)\n",
    "output_df.to_csv(output_csv, index=False)\n",
    "print(f\"Summary saved to: {output_csv}\")\n"
   ]
  }
 ],
 "metadata": {
  "kernelspec": {
   "display_name": "Python 3 (ipykernel)",
   "language": "python",
   "name": "python3"
  },
  "language_info": {
   "codemirror_mode": {
    "name": "ipython",
    "version": 3
   },
   "file_extension": ".py",
   "mimetype": "text/x-python",
   "name": "python",
   "nbconvert_exporter": "python",
   "pygments_lexer": "ipython3",
   "version": "3.12.3"
  }
 },
 "nbformat": 4,
 "nbformat_minor": 5
}
